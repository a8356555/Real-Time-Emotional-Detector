{
  "nbformat": 4,
  "nbformat_minor": 0,
  "metadata": {
    "colab": {
      "name": "side_project_emotional_detector.ipynb",
      "provenance": [],
      "collapsed_sections": [
        "iDxhwcDWr93-",
        "2VOQNXyDHX8g"
      ],
      "toc_visible": true
    },
    "kernelspec": {
      "display_name": "Python 3",
      "name": "python3"
    },
    "accelerator": "GPU"
  },
  "cells": [
    {
      "cell_type": "markdown",
      "metadata": {
        "id": "XqpPzxMm92Rn"
      },
      "source": [
        "#[START](#start)\n",
        "\n",
        "#[data](#data)\n",
        "* [datasetting](#datasetting)\n",
        "\n",
        "#[model](#model)\n",
        "* [modelsetting](#modelsetting)"
      ]
    },
    {
      "cell_type": "markdown",
      "metadata": {
        "id": "eZ-MY1ghUh-P"
      },
      "source": [
        "get file from other drive file"
      ]
    },
    {
      "cell_type": "markdown",
      "metadata": {
        "id": "iDxhwcDWr93-"
      },
      "source": [
        "#測試區"
      ]
    },
    {
      "cell_type": "code",
      "metadata": {
        "colab": {
          "base_uri": "https://localhost:8080/"
        },
        "id": "Nb9ZpicIq53G",
        "outputId": "7d0d0b62-8e9c-4e93-e1f8-00b067f79585"
      },
      "source": [
        "## read target video target frame\n",
        "# start = time.time()\n",
        "\n",
        "%timeit -n 10 for num in range(1,101):img = read_video_as_image(file_url, num)\n",
        "# end = time.time()\n",
        "# print(f'{(end - start):.5f}s per 100 pics by target video and frame')\n",
        "\n",
        "#read by cv2\n",
        "%timeit -n 10 for num in range(1,101):img = Image.fromarray(cv2.imread(f'/content/image/{num}.jpg'))\n",
        "\n",
        "\n",
        "#read by PIL\n",
        "%timeit -n 10  for num in range(1,101):img = Image.open(f'/content/image/{num}.jpg')\n",
        "\n",
        "#y1: 先解壓縮然後load圖片會花的時間\n",
        "#y2: 直接讀特定frame花的時間\n",
        "total_pics = 1008463\n",
        "training_epoch = 6\n",
        "x = range(total_pics * training_epoch)\n",
        "y1 = [(nums*(1/1400*180 + 1/100*0.008) if nums<total_pics else total_pics*180/1400 + nums/100*0.008) for nums in x]\n",
        "y2 = [nums/100*4 for nums in x]\n",
        "plt.plot(x, y1)\n",
        "plt.plot(x, y2) del x, y1, y2"
      ],
      "execution_count": null,
      "outputs": [
        {
          "output_type": "stream",
          "text": [
            "10 loops, best of 3: 3.98 s per loop\n",
            "10 loops, best of 3: 348 ms per loop\n",
            "10 loops, best of 3: 7.89 ms per loop\n"
          ],
          "name": "stdout"
        }
      ]
    },
    {
      "cell_type": "code",
      "metadata": {
        "colab": {
          "base_uri": "https://localhost:8080/"
        },
        "id": "yWajLJ9RtVv2",
        "outputId": "a3fa3e9f-a06d-4ca7-98d7-a134637513af"
      },
      "source": [
        "# custom is much faster than pytorch transform\n",
        "a_np = np.zeros((640,440,3))\n",
        "a_pil = Image.fromarray(np.uint8(np.zeros((640,440,3))))\n",
        "totensor = transforms.ToTensor()\n",
        "resizer = transforms.Resize(256)\n",
        "randomcroper = transforms.RandomCrop(224)\n",
        "def custom_resize(image):\n",
        "  output_size = 256\n",
        "  h, w = image.shape[:2]\n",
        "  if h > w:\n",
        "    new_h, new_w = int(h * output_size / w), output_size\n",
        "  else:\n",
        "    new_h, new_w = output_size, int(w * output_size / h)\n",
        "  return cv2.resize(image, dsize=(new_w, new_h))\n",
        "\n",
        "def custom_randomcrop(image):\n",
        "  h, w = image.shape[:2]\n",
        "  new_h, new_w = 256, 256\n",
        "  top = np.random.randint(0, h - new_h)\n",
        "  left = np.random.randint(0, w - new_w)\n",
        "\n",
        "  return image[top: top + new_h,\n",
        "                left: left + new_w]\n",
        "print('ToTensor')\n",
        "%timeit -n 10 totensor(a_pil)\n",
        "%timeit -n 10 totensor(a_np) \n",
        "%timeit -n 10 torch.from_numpy(a_np)\n",
        "print('resizer')\n",
        "%timeit -n 10 resizer(a_pil)\n",
        "%timeit -n 10 custom_resize(a_np)\n",
        "print('randomCrop')\n",
        "%timeit -n 10 randomcroper(a_pil)\n",
        "%timeit -n 10 custom_randomcrop(a_np)"
      ],
      "execution_count": null,
      "outputs": [
        {
          "output_type": "stream",
          "text": [
            "ToTensor\n",
            "10 loops, best of 5: 2.55 ms per loop\n",
            "10 loops, best of 5: 1.94 ms per loop\n",
            "10 loops, best of 5: 1.75 µs per loop\n",
            "resizer\n",
            "10 loops, best of 5: 3.21 ms per loop\n",
            "10 loops, best of 5: 1.55 ms per loop\n",
            "randomCrop\n",
            "10 loops, best of 5: 33.1 µs per loop\n",
            "10 loops, best of 5: 7.52 µs per loop\n"
          ],
          "name": "stdout"
        }
      ]
    },
    {
      "cell_type": "markdown",
      "metadata": {
        "id": "KW-nKzJt9uJX"
      },
      "source": [
        "#START\n",
        "<a name='start'>Pipeline Start From Here</a>\n",
        "<p><a name='data'><font size=4>1. dataing</font></a></p>"
      ]
    },
    {
      "cell_type": "code",
      "metadata": {
        "colab": {
          "base_uri": "https://localhost:8080/"
        },
        "id": "aXYgqZZp6D7d",
        "collapsed": true,
        "cellView": "form",
        "outputId": "039dab1e-6d6c-4cfa-d074-c2b9f41154ae"
      },
      "source": [
        "#@title\n",
        "%cd .. \n",
        "!du -shc"
      ],
      "execution_count": null,
      "outputs": [
        {
          "output_type": "stream",
          "text": [
            "/\n",
            "du: cannot read directory './proc/115/task/115/net': Invalid argument\n",
            "du: cannot read directory './proc/115/net': Invalid argument\n",
            "du: cannot read directory './proc/173/task/173/net': Invalid argument\n",
            "du: cannot read directory './proc/173/net': Invalid argument\n",
            "du: cannot read directory './proc/225/task/225/net': Invalid argument\n",
            "du: cannot read directory './proc/225/net': Invalid argument\n",
            "du: cannot read directory './proc/639/task/639/net': Invalid argument\n",
            "du: cannot read directory './proc/639/net': Invalid argument\n",
            "du: cannot read directory './proc/641/task/641/net': Invalid argument\n",
            "du: cannot read directory './proc/641/net': Invalid argument\n",
            "du: cannot read directory './proc/643/task/643/net': Invalid argument\n",
            "du: cannot read directory './proc/643/net': Invalid argument\n",
            "du: cannot access './proc/786/task/786/fd/4': No such file or directory\n",
            "du: cannot access './proc/786/task/786/fdinfo/4': No such file or directory\n",
            "du: cannot access './proc/786/fd/3': No such file or directory\n",
            "du: cannot access './proc/786/fdinfo/3': No such file or directory\n",
            "du: cannot access './content/drive': Transport endpoint is not connected\n",
            "64G\t.\n",
            "64G\ttotal\n"
          ],
          "name": "stdout"
        }
      ]
    },
    {
      "cell_type": "code",
      "metadata": {
        "id": "wVIxOFN4ObIk",
        "colab": {
          "base_uri": "https://localhost:8080/"
        },
        "collapsed": true,
        "outputId": "b9e432ee-f2b9-445b-f9f1-5498d8b0fc0c"
      },
      "source": [
        "!pip install livelossplot\n",
        "\n",
        "# !pip install wandb\n",
        "# import wandb\n",
        "# wandb.init()\n",
        "\n",
        "from livelossplot import PlotLosses\n",
        "import tarfile\n",
        "import os\n",
        "import shutil\n",
        "import random\n",
        "\n",
        "from PIL import Image\n",
        "import cv2  \n",
        "import math\n",
        "import re\n",
        "import skimage.transform #io, transform\n",
        "import matplotlib.pyplot as plt\n",
        "import numpy as np\n",
        "\n",
        "import torch\n",
        "from torch.utils.data import Dataset, DataLoader\n",
        "from torchvision import transforms, utils, models\n",
        "import torch.nn as nn\n",
        "from torch import optim\n",
        "from torchsummary import summary\n",
        "from torch.utils.tensorboard import SummaryWriter\n",
        "\n",
        "import time\n",
        "from tqdm import tqdm\n",
        "\n",
        "def seed_torch(seed=1029):\n",
        "    random.seed(seed)\n",
        "    os.environ['PYTHONHASHSEED'] = str(seed)\n",
        "    np.random.seed(seed)\n",
        "    torch.manual_seed(seed)\n",
        "    torch.cuda.manual_seed(seed)\n",
        "    torch.cuda.manual_seed_all(seed) # if you are using multi-GPU.\n",
        "    torch.backends.cudnn.benchmark = False\n",
        "    torch.backends.cudnn.deterministic = True\n",
        "    torch.backends.cudnn.enabled = False\n",
        "seed_torch()\n",
        "\n",
        "from google.colab import drive\n",
        "drive.mount('/content/gdrive')"
      ],
      "execution_count": null,
      "outputs": [
        {
          "output_type": "stream",
          "text": [
            "Collecting livelossplot\n",
            "  Downloading https://files.pythonhosted.org/packages/57/26/840be243088ce142d61c60273408ec09fa1de4534056a56d6e91b73f0cae/livelossplot-0.5.4-py3-none-any.whl\n",
            "Requirement already satisfied: matplotlib in /usr/local/lib/python3.7/dist-packages (from livelossplot) (3.2.2)\n",
            "Requirement already satisfied: bokeh in /usr/local/lib/python3.7/dist-packages (from livelossplot) (2.3.0)\n",
            "Requirement already satisfied: ipython in /usr/local/lib/python3.7/dist-packages (from livelossplot) (5.5.0)\n",
            "Requirement already satisfied: python-dateutil>=2.1 in /usr/local/lib/python3.7/dist-packages (from matplotlib->livelossplot) (2.8.1)\n",
            "Requirement already satisfied: cycler>=0.10 in /usr/local/lib/python3.7/dist-packages (from matplotlib->livelossplot) (0.10.0)\n",
            "Requirement already satisfied: numpy>=1.11 in /usr/local/lib/python3.7/dist-packages (from matplotlib->livelossplot) (1.19.5)\n",
            "Requirement already satisfied: pyparsing!=2.0.4,!=2.1.2,!=2.1.6,>=2.0.1 in /usr/local/lib/python3.7/dist-packages (from matplotlib->livelossplot) (2.4.7)\n",
            "Requirement already satisfied: kiwisolver>=1.0.1 in /usr/local/lib/python3.7/dist-packages (from matplotlib->livelossplot) (1.3.1)\n",
            "Requirement already satisfied: tornado>=5.1 in /usr/local/lib/python3.7/dist-packages (from bokeh->livelossplot) (5.1.1)\n",
            "Requirement already satisfied: typing-extensions>=3.7.4 in /usr/local/lib/python3.7/dist-packages (from bokeh->livelossplot) (3.7.4.3)\n",
            "Requirement already satisfied: packaging>=16.8 in /usr/local/lib/python3.7/dist-packages (from bokeh->livelossplot) (20.9)\n",
            "Requirement already satisfied: Jinja2>=2.7 in /usr/local/lib/python3.7/dist-packages (from bokeh->livelossplot) (2.11.3)\n",
            "Requirement already satisfied: PyYAML>=3.10 in /usr/local/lib/python3.7/dist-packages (from bokeh->livelossplot) (3.13)\n",
            "Requirement already satisfied: pillow>=7.1.0 in /usr/local/lib/python3.7/dist-packages (from bokeh->livelossplot) (7.1.2)\n",
            "Requirement already satisfied: pexpect; sys_platform != \"win32\" in /usr/local/lib/python3.7/dist-packages (from ipython->livelossplot) (4.8.0)\n",
            "Requirement already satisfied: decorator in /usr/local/lib/python3.7/dist-packages (from ipython->livelossplot) (4.4.2)\n",
            "Requirement already satisfied: prompt-toolkit<2.0.0,>=1.0.4 in /usr/local/lib/python3.7/dist-packages (from ipython->livelossplot) (1.0.18)\n",
            "Requirement already satisfied: simplegeneric>0.8 in /usr/local/lib/python3.7/dist-packages (from ipython->livelossplot) (0.8.1)\n",
            "Requirement already satisfied: pickleshare in /usr/local/lib/python3.7/dist-packages (from ipython->livelossplot) (0.7.5)\n",
            "Requirement already satisfied: traitlets>=4.2 in /usr/local/lib/python3.7/dist-packages (from ipython->livelossplot) (5.0.5)\n",
            "Requirement already satisfied: setuptools>=18.5 in /usr/local/lib/python3.7/dist-packages (from ipython->livelossplot) (54.2.0)\n",
            "Requirement already satisfied: pygments in /usr/local/lib/python3.7/dist-packages (from ipython->livelossplot) (2.6.1)\n",
            "Requirement already satisfied: six>=1.5 in /usr/local/lib/python3.7/dist-packages (from python-dateutil>=2.1->matplotlib->livelossplot) (1.15.0)\n",
            "Requirement already satisfied: MarkupSafe>=0.23 in /usr/local/lib/python3.7/dist-packages (from Jinja2>=2.7->bokeh->livelossplot) (1.1.1)\n",
            "Requirement already satisfied: ptyprocess>=0.5 in /usr/local/lib/python3.7/dist-packages (from pexpect; sys_platform != \"win32\"->ipython->livelossplot) (0.7.0)\n",
            "Requirement already satisfied: wcwidth in /usr/local/lib/python3.7/dist-packages (from prompt-toolkit<2.0.0,>=1.0.4->ipython->livelossplot) (0.2.5)\n",
            "Requirement already satisfied: ipython-genutils in /usr/local/lib/python3.7/dist-packages (from traitlets>=4.2->ipython->livelossplot) (0.2.0)\n",
            "Installing collected packages: livelossplot\n",
            "Successfully installed livelossplot-0.5.4\n",
            "Mounted at /content/gdrive\n"
          ],
          "name": "stdout"
        }
      ]
    },
    {
      "cell_type": "code",
      "metadata": {
        "id": "czvV_E4cUwek"
      },
      "source": [
        "\n",
        "def get_files_path(folder_url):\n",
        "    return [os.path.join(root, file) for root, _, files in os.walk(folder_url) for file in files] \n",
        "\n",
        "def get_sorted_folder_path(url):\n",
        "    urls = get_files_path(url)\n",
        "    urls.sort(key=lambda x: list(map(int, re.findall('\\d+', x))))\n",
        "    return urls\n",
        "\n",
        "def tar_file(file_url):\n",
        "    start = time.time()\n",
        "    with tarfile.open(file_url) as file:\n",
        "        file.extractall(os.path.dirname(file_url),)\n",
        "        print(f'done! time: {time.time() - start}')\n",
        "\n",
        "def get_data(file_url):\n",
        "    with open(file_url) as file:\n",
        "        output = [elem.strip() for elem in file.readlines()]\n",
        "    return output\n",
        "\n",
        "def get_data_to_numpy(file_url):\n",
        "    with open(file_url) as file:\n",
        "        output = np.fromfile(file)\n",
        "    return output\n",
        "\n",
        "def get_frame_nums(index):\n",
        "    return (len(list(os.walk(f'/content/aff_wild_annotations_bboxes_landmarks_new/landmarks/train/{index}/'))[0][2]),\n",
        "            len(list(os.walk(f'/content/aff_wild_annotations_bboxes_landmarks_new/bboxes/train/{index}/'))[0][2]))\n",
        "\n",
        "def show_landmark_and_bbox(image, landmarks, bboxes):\n",
        "    \"\"\"\n",
        "    Show image with landmarks\n",
        "    landmarks: N images * (x, y)\n",
        "    \"\"\"\n",
        "    plt.imshow(image)\n",
        "    plt.scatter(landmarks[:, 0], landmarks[:, 1], s=10, marker='.', c='r')\n",
        "    for i in range(4):\n",
        "        if i<3:\n",
        "            plt.plot([bboxes[i][0], bboxes[i+1][0]], [bboxes[i][1], bboxes[i+1][1]])\n",
        "        else:\n",
        "            plt.plot([bboxes[i][0], bboxes[0][0]], [bboxes[i][1], bboxes[0][1]])\n",
        "    plt.pause(0.001)  # pause a bit so that plots are updated\n",
        "    \n",
        "#images\n",
        "def read_video_as_image(file_url, frame_idx):\n",
        "    cap = cv2.VideoCapture(file_url)   # capturing the video from the given path\n",
        "    cap.set(1, frame_idx) #current frame number\n",
        "    success, frame = cap.read()\n",
        "    rgb_img = cv2.cvtColor(frame, cv2.COLOR_BGR2RGB) if success else np.zeros((224,224,3))\n",
        "    cap.release()\n",
        "    # return Image.fromarray(np.uint8(rgb_img)) #use custom transform\n",
        "    return np.uint8(rgb_img)\n",
        "\n",
        "def show_image(img):\n",
        "    plt.figure()\n",
        "    plt.imshow(img)\n",
        "    plt.show\n",
        "\n",
        "def ç(file_url, pic_nums):\n",
        "    cap = cv2.VideoCapture(file_url)   # capturing the video from the given path\n",
        "    frame_rate = cap.get(5)\n",
        "    success, frame = cap.read()\n",
        "    count = 0\n",
        "    while cap.isOpened() and count<pic_nums:\n",
        "        if not success:\n",
        "            break\n",
        "        rgb_img = cv2.cvtColor(frame, cv2.COLOR_BGR2RGB)\n",
        "        show_image(rgb_img)\n",
        "        cap.set(1, cap.get(1)+frame_rate) #current frame number\n",
        "        count += 1        \n",
        "    cap.release()\n",
        "\n",
        "def read_video_and_save(file_url, target_path, frame_rate=100):\n",
        "    cap = cv2.VideoCapture(file_url)   # capturing the video from the given path\n",
        "    video_index = re.search('\\d+',file_url).group()\n",
        "    print(video_index)\n",
        "    success, frame = cap.read()\n",
        "    if os.path.exists(target_path):\n",
        "        os.chdir(target_path)\n",
        "    else:\n",
        "        os.mkdir(target_path)\n",
        "    current_frame_num = cap.get(1)\n",
        "    total_frame_num = cap.get(7)\n",
        "    while cap.isOpened() and current_frame_num < total_frame_num - 50:\n",
        "        if not success:\n",
        "            break\n",
        "        rgb_img = cv2.cvtColor(frame, cv2.COLOR_BGR2RGB)\n",
        "        cap.set(1, cap.get(1)+frame_rate) #current frame number\n",
        "        cv2.imwrite(f'video{video_index}frame{current_frame_num}.jpg', rgb_img)\n",
        "    cap.release()\n",
        "    print(f'{video_index} video done!')\n",
        "\n",
        "\n",
        "def torchvision_read_video(path):\n",
        "    \"\"\"package問題\"\"\"\n",
        "    torchvision.io.read_video(path)\n",
        "\n",
        "def copytree(src, dst, symlinks=False, ignore=None):\n",
        "    for item in os.listdir(src):\n",
        "        s = os.path.join(src, item)\n",
        "        d = os.path.join(dst, item)\n",
        "        print(s)\n",
        "        if os.path.isdir(s):\n",
        "            shutil.copytree(s, d, symlinks, ignore)\n",
        "        else:\n",
        "            shutil.copy2(s, d)\n",
        "\n",
        "def remove_folder(path):\n",
        "    shutil.rmtree(path)"
      ],
      "execution_count": null,
      "outputs": []
    },
    {
      "cell_type": "code",
      "metadata": {
        "colab": {
          "base_uri": "https://localhost:8080/"
        },
        "id": "jFlOHQ2uwCLW",
        "outputId": "ee3c8db7-eb11-4218-eabc-e603935ebe23"
      },
      "source": [
        "root = '/content/aff_wild_annotations_bboxes_landmarks_new/videos/train'\n",
        "for file in os.listdir(root):\n",
        "    path = os.path.join(root, file)\n",
        "    read_video_and_save(path, '/content/pics')"
      ],
      "execution_count": null,
      "outputs": [
        {
          "output_type": "stream",
          "text": [
            "224\n"
          ],
          "name": "stdout"
        }
      ]
    },
    {
      "cell_type": "code",
      "metadata": {
        "id": "u2UIf1R34cK8",
        "colab": {
          "base_uri": "https://localhost:8080/"
        },
        "outputId": "9a11a083-dd4c-4427-955a-6c6971d77d5b"
      },
      "source": [
        "def get_raw_data():\n",
        "    # only first time\n",
        "    from pydrive.auth import GoogleAuth\n",
        "    from pydrive.drive import GoogleDrive\n",
        "    from google.colab import auth\n",
        "    from oauth2client.client import GoogleCredentials\n",
        "\n",
        "    auth.authenticate_user()\n",
        "    gauth = GoogleAuth()\n",
        "    gauth.credentials = GoogleCredentials.get_application_default()\n",
        "    drive = GoogleDrive(gauth)\n",
        "\n",
        "    downloaded = drive.CreateFile({'id':\"1A6uU4XdO11o_VYSV5RCGiwCb9l4Wgk4s\"}) \n",
        "    downloaded.GetContentFile('aff_wild_videos_annotations_bboxes_landmarks.tar.gz')\n",
        "    downloaded.Upload()\n",
        "\n",
        "    tar_file('/content/aff_wild_videos_annotations_bboxes_landmarks.tar.gz')\n",
        "\n",
        "    src = '/content/aff_wild_annotations_bboxes_landmarks_new'\n",
        "    dst = '/content/gdrive/MyDrive/SideProject/aff_wild_annotations_bboxes_landmarks_new'\n",
        "    shutil.move(src, dst)\n",
        "\n",
        "def data_prep(copy = True, tar = True):\n",
        "    if copy:\n",
        "        src = '/content/gdrive/MyDrive/SideProject/aff_wild_annotations_bboxes_landmarks_new'\n",
        "        dst = '/content/aff_wild_annotations_bboxes_landmarks_new'    \n",
        "        try:\n",
        "            copytree(src, dst)\n",
        "        except:\n",
        "            pass\n",
        "\n",
        "    # 解壓縮\n",
        "    if tar:\n",
        "        tarfiles = get_files_path('/content/aff_wild_annotations_bboxes_landmarks_new')\n",
        "        for path in tarfiles:\n",
        "            tar_file(path)                        \n",
        "\n",
        "# get_raw_data()        \n",
        "data_prep(True, True)"
      ],
      "execution_count": null,
      "outputs": [
        {
          "output_type": "stream",
          "text": [
            "/content/gdrive/MyDrive/SideProject/aff_wild_annotations_bboxes_landmarks_new/annotations\n",
            "/content/gdrive/MyDrive/SideProject/aff_wild_annotations_bboxes_landmarks_new/bboxes\n",
            "/content/gdrive/MyDrive/SideProject/aff_wild_annotations_bboxes_landmarks_new/videos\n",
            "/content/gdrive/MyDrive/SideProject/aff_wild_annotations_bboxes_landmarks_new/landmarks\n",
            "done! time: 142.20143365859985\n",
            "done! time: 26.673814058303833\n",
            "done! time: 215.93202900886536\n",
            "done! time: 45.32514190673828\n",
            "done! time: 0.17513012886047363\n",
            "done! time: 203.60403680801392\n",
            "done! time: 41.7488317489624\n"
          ],
          "name": "stdout"
        }
      ]
    },
    {
      "cell_type": "markdown",
      "metadata": {
        "id": "lnDAfDM2LRAb"
      },
      "source": [
        "Try multiprocess/multithread"
      ]
    },
    {
      "cell_type": "code",
      "metadata": {
        "collapsed": true,
        "id": "20PPxC49U6wr",
        "cellView": "form"
      },
      "source": [
        "#@title\n",
        "# # multi...\n",
        "# os.mkdir('aff_wild_annotations_bboxes_landmarks_new')\n",
        "# from multiprocessing import Pool, cpu_count\n",
        "# import threading\n",
        "\n",
        "# def copy_file(src_dst):\n",
        "#     print('start')\n",
        "#     print(src_dst)\n",
        "#     copytree(src_dst[0], src_dst[1])\n",
        "\n",
        "# dst = '/content/gdrive/MyDrive/SideProject/aff_wild_annotations_bboxes_landmarks_new'\n",
        "# src = '/content/aff_wild_annotations_bboxes_landmarks_new'\n",
        "# srcs = [os.path.join(src, folder) for folder in os.listdir(src)]\n",
        "# dsts = [os.path.join(dst, folder) for folder in os.listdir(src)]\n",
        "# srcs_dsts = list(zip(srcs, dsts))\n",
        "\n",
        "# def multiprocess_copy_file(srcs_dsts):\n",
        "#     start = time.time()\n",
        "#     with Pool(cpu_count()) as p:\n",
        "#         p.map(copy_file, srcs_dsts)\n",
        "#     print(time.time() - start)\n",
        "#     #179.6968069076538\n",
        "\n",
        "# def multithread_copy_file(srcs_dsts):\n",
        "#     start = time.time()\n",
        "#     threads = []\n",
        "#     for i, src_dst in enumerate(srcs_dsts):\n",
        "#         threads.append(threading.Thread(target = copy_file, args = ( src_dst,)))\n",
        "#         threads[i].start()\n",
        "\n",
        "#     for i in range(4):\n",
        "#         threads[i].join()\n",
        "#     print(time.time() - start)\n",
        "\n",
        "# def multiprocess_tar_file(paths):\n",
        "#     start = time.time()\n",
        "#     with Pool(cpu_count()) as p:\n",
        "#         p.map(tar_file, paths)\n",
        "#     print(time.time() - start)\n",
        "#     #179.6968069076538\n",
        "\n",
        "# tarfiles = get_files_path('/content/aff_wild_annotations_bboxes_landmarks_new')\n",
        "# multiprocess_tar_file(tarfiles)"
      ],
      "execution_count": null,
      "outputs": []
    },
    {
      "cell_type": "markdown",
      "metadata": {
        "id": "Ln8SdGBSHsN_"
      },
      "source": [
        "#DATASET"
      ]
    },
    {
      "cell_type": "code",
      "metadata": {
        "id": "4qZnbZQ-_gdH"
      },
      "source": [
        "# custom data loader\n",
        "# from torch.utils.data import Dataset, DataLoader\n",
        "class CustomDataset(Dataset):\n",
        "    def __init__(self, root_dir, transform=None, phase='train', frame_rate=100, require_landmark=True):\n",
        "        \"\"\"\n",
        "        input format\n",
        "        dtype: numpy.float\n",
        "        [imgs, annotations(v, a), bboxes, landmarks]\n",
        "        \"\"\"   \n",
        "        assert root_dir == '/content/aff_wild_annotations_bboxes_landmarks_new'\n",
        "        \n",
        "        self.root_dir = root_dir\n",
        "        self.frame_rate = frame_rate if phase == 'train' else frame_rate*2 \n",
        "        self.transform = transform\n",
        "        self._phase = phase\n",
        "        self._require_landmark = require_landmark\n",
        "        \n",
        "        sorted_path = get_sorted_folder_path(os.path.join(root_dir, 'annotations/train'))\n",
        "        if phase == 'train':\n",
        "            sorted_path = sorted_path[:370] \n",
        "        elif phase == 'small':\n",
        "            sorted_path = sorted_path[12:14]\n",
        "        else: \n",
        "            sorted_path = sorted_path[370:]\n",
        "\n",
        "        annotations_a = [get_data(url) for url in sorted_path[::2]]\n",
        "        annotations_v = [get_data(url) for url in sorted_path[1::2]]\n",
        "        # self.annotations = [[image_index, frame_index, valence, arouse], [...]]\n",
        "\n",
        "        annotations = np.array([[re.search('\\d+', sorted_path[::2][num]).group(), frmidx, annotations_v[num][frmidx], annotations_a[num][frmidx]] \n",
        "                                for num, img in enumerate(annotations_a) \n",
        "                                for frmidx in range(50, len(img)-50)], dtype=np.float16) #-50代表後50個frame不取\n",
        "        \n",
        "        annotations = annotations[(annotations[:,2:] != 0).any(axis = 1)] # 篩選掉 valence and arousal == 0\n",
        "        self.annotations = annotations[::self.frame_rate] #以self.frame_rate 取樣\n",
        "        self._len = self.annotations.shape[0]\n",
        "\n",
        "        del sorted_path, annotations_a, annotations_v, annotations\n",
        "\n",
        "    def __len__(self):\n",
        "        return self._len\n",
        "\n",
        "    def __getitem__(self, idx):\n",
        "        assert isinstance(idx, (int, list)), '必須是int or list'\n",
        "\n",
        "        image_index = int(self.annotations[idx][0])\n",
        "        frame_index = int(self.annotations[idx][1])\n",
        "        sub_file_name = '.avi' if image_index <= 200 else '.mp4'\n",
        "        \n",
        "        image_url = os.path.join(self.root_dir, f'videos/train/{image_index}{sub_file_name}')\n",
        "        bboxes_url = os.path.join(self.root_dir, f'bboxes/train/{image_index}/{frame_index}.pts')\n",
        "        landmarks_url = os.path.join(self.root_dir, f'landmarks/train/{image_index}/{frame_index}.pts')\n",
        "        \n",
        "        image = read_video_as_image(image_url, frame_index)\n",
        "        sample = {\n",
        "            'image': image,\n",
        "            'annotations': self.annotations[idx][2:],\n",
        "            'bboxes': self.get_bboxes_or_landmarks_data(bboxes_url) if os.path.exists(bboxes_url) else np.zeros((4,2), dtype=np.int8),\n",
        "            'landmarks': self.get_bboxes_or_landmarks_data(landmarks_url) if os.path.exists(landmarks_url) and self._require_landmark else np.zeros((68,2), dtype=np.int8)\n",
        "        } if image.mean() > 30 else {\n",
        "            'image': image,\n",
        "            'annotations': np.zeros((2), dtype=np.int8),\n",
        "            'bboxes': np.zeros((4, 2), dtype=np.int8),\n",
        "            'landmarks': np.zeros((68, 2), dtype=np.int8)\n",
        "        }\n",
        "        # bboxes = sample['bboxes']\n",
        "        # landmarks = sample['landmarks']\n",
        "    \n",
        "        # print(f'img: {image.mean()}, box: {bboxes.mean()}, lm: {landmarks.mean(), landmarks.shape}, annotations: {self.annotations.mean}')\n",
        "        if self.transform:      \n",
        "            sample = self.transform(sample)\n",
        "        return sample\n",
        "\n",
        "    def get_bboxes_or_landmarks_data(self, url):\n",
        "            data = [elem.split(' ') for elem in get_data(url)[3:-1]]\n",
        "            return np.array(data).astype(np.float16)\n",
        "\n",
        "\n",
        "# from torchvision import transforms, utils\n",
        "class Rescale():\n",
        "    def __init__(self, output_size):\n",
        "        assert isinstance(output_size, (int, tuple)), '必須是 int or tuple'\n",
        "        self.output_size = output_size\n",
        "    \n",
        "    def __call__(self, sample):\n",
        "        image, bboxes, landmarks = sample['image'], sample['bboxes'], sample['landmarks']\n",
        "        if image.mean() == 0: #讀取影片失敗會得到 np.zeros((224, 224, 3))\n",
        "            pass\n",
        "        \n",
        "        h, w = image.shape[:2]\n",
        "        if isinstance(self.output_size, int):\n",
        "            if h > w:\n",
        "                new_h, new_w = int(h * self.output_size / w), self.output_size\n",
        "            else:\n",
        "                new_h, new_w = self.output_size, int(w * self.output_size / h)\n",
        "        else:\n",
        "            new_h, new_w = self.output_size\n",
        "        \n",
        "        image = cv2.resize(image, dsize=(new_w, new_h))\n",
        "        if (landmarks[0]!=0).any():\n",
        "            landmarks = (landmarks * [new_w/w, new_h/h]).astype(np.int16)\n",
        "        if (bboxes[0]!=0).any():\n",
        "            bboxes = (bboxes * [new_w/w, new_h/h]).astype(np.int16)\n",
        "        return {\n",
        "            'image': image,\n",
        "            'annotations': sample['annotations'],\n",
        "            'bboxes': bboxes,\n",
        "            'landmarks': landmarks\n",
        "            }\n",
        "\n",
        "class TargetRandomCrop(object):\n",
        "    \"\"\"Center Crop the image without cropping target hard.\n",
        "\n",
        "    Args:\n",
        "        output_size (tuple or int): Desired output size. If int, square crop\n",
        "            is made.\n",
        "    \"\"\"\n",
        "\n",
        "    def __init__(self, output_size):\n",
        "        assert isinstance(output_size, (int, tuple))\n",
        "        if isinstance(output_size, int):\n",
        "            self.output_size = (output_size, output_size)\n",
        "        else:\n",
        "            assert len(output_size) == 2\n",
        "            self.output_size = output_size\n",
        "\n",
        "    def __call__(self, sample):\n",
        "        image, bboxes, landmarks, annotations = sample['image'], sample['bboxes'], sample['landmarks'], sample['annotations']\n",
        "        if image.mean() == 0: #讀取影片失敗會得到 np.zeros((224, 224, 3))\n",
        "            pass\n",
        "        h, w = image.shape[:2]\n",
        "        new_h, new_w = self.output_size\n",
        "        max_left = w - new_w\n",
        "        max_top = h - new_h\n",
        "        \n",
        "        if (bboxes[0]!=0).any():\n",
        "            box_left, box_top = bboxes[0]\n",
        "            if box_left < max_left:\n",
        "                max_left = box_left\n",
        "            if box_top < max_top:\n",
        "                max_top = box_top\n",
        "            left = np.random.randint(max_left*0.65, max_left+1)\n",
        "            top = np.random.randint(max_top*0.65, max_top+1)\n",
        "            bboxes = bboxes - [left, top]\n",
        "\n",
        "        else:\n",
        "            top = max_top\n",
        "            left = max_left\n",
        "           \n",
        "        image = image[top: top + new_h,\n",
        "                        left: left + new_w]\n",
        "        \n",
        "        if (landmarks[0]!=0).any():\n",
        "            landmarks = landmarks - [left, top]\n",
        "\n",
        "        return {\n",
        "            'image': image,\n",
        "            'annotations': annotations,\n",
        "            'bboxes': bboxes,\n",
        "            'landmarks': landmarks\n",
        "            }\n",
        "\n",
        "\n",
        "class ToTensor(object):\n",
        "    \"\"\"Convert ndarrays in sample to Tensors.\"\"\"\n",
        "\n",
        "    def __call__(self, sample):\n",
        "        image, bboxes, landmarks, annotations = sample['image'], sample['bboxes'], sample['landmarks'], sample['annotations']\n",
        "        # swap color axis because\n",
        "        # numpy image: H x W x C\n",
        "        # torch image: C X H X W\n",
        "        image = image.transpose((2, 0, 1))\n",
        "        return {'image': torch.from_numpy(image).float(),\n",
        "                'annotations': torch.from_numpy(annotations).float(),\n",
        "                'bboxes': torch.from_numpy(bboxes).float(),\n",
        "                'landmarks': torch.from_numpy(landmarks).float()\n",
        "                }"
      ],
      "execution_count": null,
      "outputs": []
    },
    {
      "cell_type": "markdown",
      "metadata": {
        "id": "iXAjUG-A3ru_"
      },
      "source": [
        "#Dataset Setting\n",
        "<p><a name='datasetting'><font size=4>1. datasetting</font></a></p>"
      ]
    },
    {
      "cell_type": "code",
      "metadata": {
        "id": "lwapFpioSTPo"
      },
      "source": [
        "class DataConfig(object):\n",
        "    root_dir = '/content/aff_wild_annotations_bboxes_landmarks_new'\n",
        "    batch_size = 64 # batch size\n",
        "    use_gpu = True # use GPU or not\n",
        "    num_workers = 2 # how many workers for loading data\n",
        "    pin_memory = True\n",
        "    device = torch.device(\"cuda:0\" if torch.cuda.is_available() else \"cpu\")\n",
        "\n",
        "dconfig = DataConfig()\n",
        "\n",
        "\n",
        "def get_dataset_dataloader(phase):\n",
        "    shuffle_dict = { 'train': True, \n",
        "                    'valid': False, \n",
        "                    'small': False }\n",
        "\n",
        "    composed_transforms = transforms.Compose([\n",
        "                                          Rescale(280),\n",
        "                                          TargetRandomCrop(224),\n",
        "                                          ToTensor()\n",
        "                                        ])\n",
        "    dataset = CustomDataset(dconfig.root_dir, transform=composed_transforms, phase=phase)\n",
        "    dataloader = DataLoader(\n",
        "        dataset,\n",
        "        batch_size = dconfig.batch_size,\n",
        "        shuffle = shuffle_dict[phase],\n",
        "        num_workers = dconfig.num_workers,\n",
        "        pin_memory = dconfig.pin_memory\n",
        "    )\n",
        "    return dataset, dataloader\n",
        "\n",
        "train_dataset, train_dataloader = get_dataset_dataloader('train')\n",
        "valid_dataset, valid_dataloader = get_dataset_dataloader('valid')\n",
        "\n",
        "# for dataset in [small_dataset, train_dataset, valid_dataset]:\n",
        "#     print(len(dataset))"
      ],
      "execution_count": null,
      "outputs": []
    },
    {
      "cell_type": "code",
      "metadata": {
        "colab": {
          "base_uri": "https://localhost:8080/"
        },
        "id": "bHKG7kP2j2uE",
        "outputId": "1f1e9010-f52b-42c9-cc05-5f19200f2600"
      },
      "source": [
        "for ds in [train_dataset, valid_dataset]:\n",
        "    print(len(ds))"
      ],
      "execution_count": null,
      "outputs": [
        {
          "output_type": "stream",
          "text": [
            "7558\n",
            "1083\n"
          ],
          "name": "stdout"
        }
      ]
    },
    {
      "cell_type": "markdown",
      "metadata": {
        "id": "NHEz46QX9992"
      },
      "source": [
        "#MODEL\n",
        "<a name='model'><font size=4>2. modeling</font></a>"
      ]
    },
    {
      "cell_type": "markdown",
      "metadata": {
        "id": "lCpOXw9pCAKk"
      },
      "source": [
        "1. super是必須的, 不然會出錯"
      ]
    },
    {
      "cell_type": "code",
      "metadata": {
        "collapsed": true,
        "id": "7A4xyABDbmn9"
      },
      "source": [
        "def make_model(model_size, pretrained=True):\n",
        "    model_dict = {18: models.resnet18,\n",
        "                  34: models.resnet34,\n",
        "                  50: models.resnet50,\n",
        "                  101: models.resnet101,\n",
        "                  152: models.resnet152 }\n",
        "    model = model_dict[model_size](pretrained=pretrained)\n",
        "    num_fts = model.fc.in_features\n",
        "    if pretrained:\n",
        "        for param in model.parameters():\n",
        "            param._require_grads = False\n",
        "    model.fc = nn.Linear(num_fts, 2)\n",
        "    \n",
        "    # summary(model, (3,224,224))\n",
        "    return model"
      ],
      "execution_count": null,
      "outputs": []
    },
    {
      "cell_type": "code",
      "metadata": {
        "id": "pQVST5d-umDX"
      },
      "source": [
        "#save_and_load_model\n",
        "def save_loss_as_txt(loss_dict, folder_path):\n",
        "    \"\"\"\n",
        "    loss_dict: {'train': [], 'valid': [], epoch: [], time: []}\n",
        "    \"\"\"\n",
        "    if not os.path.exists(folder_path):\n",
        "        os.mkdir(folder_path)\n",
        "    file_path = os.path.join(folder_path, mconfig.model_name + '.txt')\n",
        "    with open(file_path, 'a+') as file:\n",
        "        file.write('epoch, train loss, valid loss, time\\n')\n",
        "        for t, v, e, time in zip(loss_dict['train'], loss_dict['valid'], loss_dict['epoch'], loss_dict['time']):\n",
        "            file.write(f'{e}, {t}, {v}, {time}\\n')\n",
        "\n",
        "def save_model(PATH):\n",
        "    torch.save(model.state_dict(), PATH)\n",
        "\n",
        "def load_model(PATH):\n",
        "    model.load_state_dict(torch.load(PATH))\n",
        "    model.eval()\n",
        "\n",
        "def save_general_checkpoint(PATH, epoch):\n",
        "    folder_path = os.path.dirname(PATH)\n",
        "    if not os.path.exists(folder_path):\n",
        "        os.mkdir(folder_path)\n",
        "\n",
        "    torch.save({\n",
        "            'epoch': epoch,\n",
        "            'model_state_dict': model.cpu().state_dict(),\n",
        "            'optimizer_state_dict': optimizer.state_dict(),\n",
        "            'loss': loss,            \n",
        "            }, PATH)\n",
        "\n",
        "def load_general_checkpoint(PATH):\n",
        "    checkpoint = torch.load(PATH, map_location=dconfig.device)\n",
        "    model.load_state_dict(checkpoint['model_state_dict'])\n",
        "    optimizer.load_state_dict(checkpoint['optimizer_state_dict'])\n",
        "    model.to(dconfig.device)\n",
        "    for model_params, optim_params in optimizer.state.items():\n",
        "        for k, v in optim_params.items():\n",
        "            if isinstance(v, torch.Tensor):\n",
        "                optim_params[k] = v.to(dconfig.device)\n",
        "\n",
        "\n",
        "    epoch = checkpoint['epoch']\n",
        "    loss = checkpoint['loss']\n",
        "    # model.eval()\n",
        "    model.train()\n",
        "    return model, optimizer, epoch, loss\n"
      ],
      "execution_count": null,
      "outputs": []
    },
    {
      "cell_type": "markdown",
      "metadata": {
        "id": "fSEHWxQ83db-"
      },
      "source": [
        "#Model Setting\n",
        "<p><a name='modelsetting'><font size=4>1. modelsetting</font></a></p>"
      ]
    },
    {
      "cell_type": "code",
      "metadata": {
        "id": "NjtUGAk2nYbt"
      },
      "source": [
        "class ModelConfig:\n",
        "    model_root_folder = '/content/gdrive/MyDrive/SideProject/model/'\n",
        "    loss_graph_root_folder = '/content/gdrive/MyDrive/SideProject/loss_graph/'\n",
        "    \n",
        "    model_name = 'res34_bsize64_adam'\n",
        "    resnet_size = 34\n",
        "    pretrained = True\n",
        "    model_name_suffix = 'epoch12' #only needed when load model\n",
        "    print_freq = len(train_dataset)/dconfig.batch_size/4 # print info every N batch\n",
        "    save_freq = 4\n",
        "    max_epoch = 20\n",
        "    lr = 0.001 # initial learning rate\n",
        "    lr_decay = 0.95 # when val_loss increase, lr = lr*lr_decay\n",
        "    weight_decay = 1e-4 # 损失函数\n",
        "\n",
        "    model_save_folder = os.path.join(model_root_folder, model_name)\n",
        "    target_model_path = os.path.join(model_save_folder , model_name_suffix)\n",
        "    loss_graph_folder_path = os.path.join(loss_graph_root_folder, model_name)\n",
        "\n",
        "\n",
        "mconfig = ModelConfig()   \n",
        "model = make_model(mconfig.resnet_size, pretrained=mconfig.pretrained)\n",
        "loss = nn.MSELoss()\n",
        "optimizer = optim.Adam(model.fc.parameters())\n",
        "last_epoch = 0\n",
        "writer = SummaryWriter(log_dir=mconfig.loss_graph_folder_path, filename_suffix=mconfig.model_name)\n",
        "plotlosses = PlotLosses()\n",
        "model, optimizer, last_epoch, loss = load_general_checkpoint(mconfig.target_model_path)"
      ],
      "execution_count": null,
      "outputs": []
    },
    {
      "cell_type": "code",
      "metadata": {
        "id": "0ptCGWWKdpjX"
      },
      "source": [
        "def train_model(train_iter, valid_iter, model, loss, optimizer, start_epoch):\n",
        "    model.to(dconfig.device).float()\n",
        "    loss_dict = {'train': [], 'valid': [], 'epoch': [], 'time': []}\n",
        "\n",
        "    for epoch in range(mconfig.max_epoch):\n",
        "        start = time.time()\n",
        "        now_epoch = epoch + start_epoch\n",
        "\n",
        "        for phase, data_iter in [('train', train_iter), ('valid', valid_iter)]:\n",
        "            l, epoch_loss, n, batch_count = 0.0, 0.0, 0, 0\n",
        "            print(f'{phase}{now_epoch} start!')\n",
        "            if phase == 'train':\n",
        "                model.train()  # Set model to training mode\n",
        "            else:\n",
        "                model.eval()   # Set model to evaluate mode\n",
        "\n",
        "            for sample in data_iter:\n",
        "                X, y = sample['image'].float().to(dconfig.device), sample['annotations'].float().to(dconfig.device)\n",
        "                # zero the parameter gradients\n",
        "                optimizer.zero_grad()\n",
        "\n",
        "                # forward\n",
        "                # track history if only in train\n",
        "                with torch.set_grad_enabled(phase == 'train'):\n",
        "                    y_hat = model(X)\n",
        "                    l = loss(y_hat, y)\n",
        "\n",
        "                    # backward + optimize only if in training phase\n",
        "                    if phase == 'train':\n",
        "                        l.backward()\n",
        "                        optimizer.step()\n",
        "\n",
        "                epoch_loss += l.detach().cpu().item()\n",
        "                n += dconfig.batch_size\n",
        "                batch_count += 1 \n",
        "\n",
        "                if batch_count % mconfig.print_freq == 0:\n",
        "                    print(f'{batch_count} batch, time: {time.time() - start}')\n",
        "\n",
        "            epoch_loss = epoch_loss * n / batch_count\n",
        "            loss_dict[phase].append(epoch_loss)\n",
        "                \n",
        "\n",
        "        loss_dict['epoch'].append(now_epoch)\n",
        "        loss_dict['time'].append(time.time() - start)\n",
        "        writer.add_scalar(mconfig.model_name+\"_Loss/train\", loss_dict['train'][-1], now_epoch)\n",
        "        writer.add_scalar(mconfig.model_name+\"_Loss/valid\", loss_dict['valid'][-1], now_epoch)\n",
        "        writer.flush()\n",
        "\n",
        "        plotlosses.update({'loss': loss_dict['train'][-1], 'val_loss': loss_dict['valid'][-1]})        \n",
        "        plotlosses.send()\n",
        "        \n",
        "        print(f'epoch: {now_epoch}, train_loss: {loss_dict[\"train\"][-1]:.4f}, test_loss: {loss_dict[\"valid\"][-1]:.4f}, epoch_time: {time.time() - start:.1f} sec')\n",
        "        \n",
        "        if now_epoch % mconfig.save_freq == 0:\n",
        "            filename =  'epoch' + str(now_epoch)\n",
        "            PATH = os.path.join(mconfig.model_save_folder, filename)\n",
        "            save_general_checkpoint(PATH, now_epoch)\n",
        "            save_loss_as_txt(loss_dict, mconfig.model_save_folder)\n",
        "            model.to(dconfig.device)\n",
        "            loss_dict = {'train': [], 'valid': [], 'epoch': [], 'time': []}"
      ],
      "execution_count": null,
      "outputs": []
    },
    {
      "cell_type": "code",
      "metadata": {
        "colab": {
          "base_uri": "https://localhost:8080/"
        },
        "collapsed": true,
        "id": "CfMJbEPO1lym",
        "outputId": "824572f8-a951-41fa-fb2c-5c1b0d86f1aa"
      },
      "source": [
        "print(train_dataloader.batch_size, optimizer, loss)\n",
        "train_model(train_dataloader, valid_dataloader, model, loss, optimizer, start_epoch=last_epoch+1)\n",
        "#pretrained_resnet34_bsize64_adam"
      ],
      "execution_count": null,
      "outputs": [
        {
          "output_type": "stream",
          "text": [
            "64 Adam (\n",
            "Parameter Group 0\n",
            "    amsgrad: False\n",
            "    betas: (0.9, 0.999)\n",
            "    eps: 1e-08\n",
            "    lr: 0.001\n",
            "    weight_decay: 0\n",
            ") MSELoss()\n",
            "train13 start!\n"
          ],
          "name": "stdout"
        }
      ]
    },
    {
      "cell_type": "code",
      "metadata": {
        "id": "WC7GWQyBJXMq"
      },
      "source": [
        "!tensorboard dev upload --logdir test \\\n",
        "--name \"My latest experiment\" \\\n",
        "--description \"Simple comparison of several hyperparameters\""
      ],
      "execution_count": null,
      "outputs": []
    },
    {
      "cell_type": "code",
      "metadata": {
        "colab": {
          "base_uri": "https://localhost:8080/",
          "height": 1000
        },
        "id": "uZfZMSip6C-2",
        "collapsed": true,
        "outputId": "6afa2554-54fc-4ed7-a9a6-2fb5ff1e0b66"
      },
      "source": [
        "# model = make_model(18, pretrained=True)\n",
        "#對照組\n",
        "# 1. model:\n",
        "#    1.1 pretrained=False \n",
        "#    1.2 bigmodel\n",
        "# 2. loss\n",
        "#    2.1 smoothL1\n",
        "#    2.2 \n",
        "# 3. optimizer \n",
        "# \n"
      ],
      "execution_count": null,
      "outputs": [
        {
          "output_type": "display_data",
          "data": {
            "image/png": "[encoded data removed]",
            "text/plain": [
              "<Figure size 864x576 with 2 Axes>"
            ]
          },
          "metadata": {
            "tags": [],
            "needs_background": "light"
          }
        },
        {
          "output_type": "stream",
          "text": [
            "Loss\n",
            "\tvalidation       \t (min: 3787.080, max: 4099.358, cur: 4099.358)\n",
            "\ttraining         \t (min: 4518.642, max: 4580.432, cur: 4557.609)\n",
            "train_loss\n",
            "\ttraining         \t (min: 2209.567, max: 2209.567, cur: 2209.567)\n",
            "epoch: 6, train_loss: 4557.6095, test_loss: 4099.3580, epoch_time: 2547.3 sec\n",
            "train7 start!\n",
            "1000 batch, time: 628.7625780105591\n",
            "valid7 start!\n",
            "1000 batch, time: 1949.7109158039093\n",
            "epoch: 7, train_loss: 4458.9742, test_loss: 4099.3580, epoch_time: 2583.2 sec\n",
            "train8 start!\n",
            "1000 batch, time: 633.287703037262\n",
            "valid8 start!\n",
            "1000 batch, time: 1949.9265983104706\n"
          ],
          "name": "stdout"
        },
        {
          "output_type": "error",
          "ename": "KeyboardInterrupt",
          "evalue": "ignored",
          "traceback": [
            "\u001b[0;31m---------------------------------------------------------------------------\u001b[0m",
            "\u001b[0;31mKeyboardInterrupt\u001b[0m                         Traceback (most recent call last)",
            "\u001b[0;32m<ipython-input-36-2ed0820534be>\u001b[0m in \u001b[0;36m<module>\u001b[0;34m()\u001b[0m\n\u001b[1;32m     10\u001b[0m \u001b[0;31m#\u001b[0m\u001b[0;34m\u001b[0m\u001b[0;34m\u001b[0m\u001b[0;34m\u001b[0m\u001b[0m\n\u001b[1;32m     11\u001b[0m \u001b[0;34m\u001b[0m\u001b[0m\n\u001b[0;32m---> 12\u001b[0;31m \u001b[0mtrain_model\u001b[0m\u001b[0;34m(\u001b[0m\u001b[0mtrain_dataloader\u001b[0m\u001b[0;34m,\u001b[0m \u001b[0mvalid_dataloader\u001b[0m\u001b[0;34m,\u001b[0m \u001b[0mmodel\u001b[0m\u001b[0;34m,\u001b[0m \u001b[0mloss\u001b[0m\u001b[0;34m,\u001b[0m \u001b[0moptimizer\u001b[0m\u001b[0;34m,\u001b[0m \u001b[0;36m2000\u001b[0m\u001b[0;34m)\u001b[0m\u001b[0;34m\u001b[0m\u001b[0;34m\u001b[0m\u001b[0m\n\u001b[0m\u001b[1;32m     13\u001b[0m \u001b[0;31m# littel dataset with resnet18 with ADAM(default setting)\u001b[0m\u001b[0;34m\u001b[0m\u001b[0;34m\u001b[0m\u001b[0;34m\u001b[0m\u001b[0m\n",
            "\u001b[0;32m<ipython-input-35-33c3fe892f3a>\u001b[0m in \u001b[0;36mtrain_model\u001b[0;34m(train_iter, valid_iter, model, loss, optimizer, max_batch)\u001b[0m\n\u001b[1;32m      8\u001b[0m             \u001b[0ml\u001b[0m\u001b[0;34m,\u001b[0m \u001b[0mloss_sum\u001b[0m\u001b[0;34m,\u001b[0m \u001b[0mn\u001b[0m\u001b[0;34m,\u001b[0m \u001b[0mbatch_count\u001b[0m \u001b[0;34m=\u001b[0m \u001b[0;36m0.0\u001b[0m\u001b[0;34m,\u001b[0m \u001b[0;36m0.0\u001b[0m\u001b[0;34m,\u001b[0m \u001b[0;36m0\u001b[0m\u001b[0;34m,\u001b[0m \u001b[0;36m0\u001b[0m\u001b[0;34m\u001b[0m\u001b[0;34m\u001b[0m\u001b[0m\n\u001b[1;32m      9\u001b[0m             \u001b[0mprint\u001b[0m\u001b[0;34m(\u001b[0m\u001b[0;34mf'{phase}{epoch+1} start!'\u001b[0m\u001b[0;34m)\u001b[0m\u001b[0;34m\u001b[0m\u001b[0;34m\u001b[0m\u001b[0m\n\u001b[0;32m---> 10\u001b[0;31m             \u001b[0;32mfor\u001b[0m \u001b[0msample\u001b[0m \u001b[0;32min\u001b[0m \u001b[0mdata_iter\u001b[0m\u001b[0;34m:\u001b[0m\u001b[0;34m\u001b[0m\u001b[0;34m\u001b[0m\u001b[0m\n\u001b[0m\u001b[1;32m     11\u001b[0m                 \u001b[0mX\u001b[0m\u001b[0;34m,\u001b[0m \u001b[0my\u001b[0m \u001b[0;34m=\u001b[0m \u001b[0msample\u001b[0m\u001b[0;34m[\u001b[0m\u001b[0;34m'image'\u001b[0m\u001b[0;34m]\u001b[0m\u001b[0;34m.\u001b[0m\u001b[0mto\u001b[0m\u001b[0;34m(\u001b[0m\u001b[0mopt\u001b[0m\u001b[0;34m.\u001b[0m\u001b[0mdevice\u001b[0m\u001b[0;34m)\u001b[0m\u001b[0;34m,\u001b[0m \u001b[0msample\u001b[0m\u001b[0;34m[\u001b[0m\u001b[0;34m'annotations'\u001b[0m\u001b[0;34m]\u001b[0m\u001b[0;34m.\u001b[0m\u001b[0mto\u001b[0m\u001b[0;34m(\u001b[0m\u001b[0mopt\u001b[0m\u001b[0;34m.\u001b[0m\u001b[0mdevice\u001b[0m\u001b[0;34m)\u001b[0m\u001b[0;34m\u001b[0m\u001b[0;34m\u001b[0m\u001b[0m\n\u001b[1;32m     12\u001b[0m                 \u001b[0;31m# zero the parameter gradients\u001b[0m\u001b[0;34m\u001b[0m\u001b[0;34m\u001b[0m\u001b[0;34m\u001b[0m\u001b[0m\n",
            "\u001b[0;32m/usr/local/lib/python3.7/dist-packages/torch/utils/data/dataloader.py\u001b[0m in \u001b[0;36m__next__\u001b[0;34m(self)\u001b[0m\n\u001b[1;32m    515\u001b[0m             \u001b[0;32mif\u001b[0m \u001b[0mself\u001b[0m\u001b[0;34m.\u001b[0m\u001b[0m_sampler_iter\u001b[0m \u001b[0;32mis\u001b[0m \u001b[0;32mNone\u001b[0m\u001b[0;34m:\u001b[0m\u001b[0;34m\u001b[0m\u001b[0;34m\u001b[0m\u001b[0m\n\u001b[1;32m    516\u001b[0m                 \u001b[0mself\u001b[0m\u001b[0;34m.\u001b[0m\u001b[0m_reset\u001b[0m\u001b[0;34m(\u001b[0m\u001b[0;34m)\u001b[0m\u001b[0;34m\u001b[0m\u001b[0;34m\u001b[0m\u001b[0m\n\u001b[0;32m--> 517\u001b[0;31m             \u001b[0mdata\u001b[0m \u001b[0;34m=\u001b[0m \u001b[0mself\u001b[0m\u001b[0;34m.\u001b[0m\u001b[0m_next_data\u001b[0m\u001b[0;34m(\u001b[0m\u001b[0;34m)\u001b[0m\u001b[0;34m\u001b[0m\u001b[0;34m\u001b[0m\u001b[0m\n\u001b[0m\u001b[1;32m    518\u001b[0m             \u001b[0mself\u001b[0m\u001b[0;34m.\u001b[0m\u001b[0m_num_yielded\u001b[0m \u001b[0;34m+=\u001b[0m \u001b[0;36m1\u001b[0m\u001b[0;34m\u001b[0m\u001b[0;34m\u001b[0m\u001b[0m\n\u001b[1;32m    519\u001b[0m             \u001b[0;32mif\u001b[0m \u001b[0mself\u001b[0m\u001b[0;34m.\u001b[0m\u001b[0m_dataset_kind\u001b[0m \u001b[0;34m==\u001b[0m \u001b[0m_DatasetKind\u001b[0m\u001b[0;34m.\u001b[0m\u001b[0mIterable\u001b[0m \u001b[0;32mand\u001b[0m\u001b[0;31m \u001b[0m\u001b[0;31m\\\u001b[0m\u001b[0;34m\u001b[0m\u001b[0;34m\u001b[0m\u001b[0m\n",
            "\u001b[0;32m/usr/local/lib/python3.7/dist-packages/torch/utils/data/dataloader.py\u001b[0m in \u001b[0;36m_next_data\u001b[0;34m(self)\u001b[0m\n\u001b[1;32m   1180\u001b[0m \u001b[0;34m\u001b[0m\u001b[0m\n\u001b[1;32m   1181\u001b[0m             \u001b[0;32massert\u001b[0m \u001b[0;32mnot\u001b[0m \u001b[0mself\u001b[0m\u001b[0;34m.\u001b[0m\u001b[0m_shutdown\u001b[0m \u001b[0;32mand\u001b[0m \u001b[0mself\u001b[0m\u001b[0;34m.\u001b[0m\u001b[0m_tasks_outstanding\u001b[0m \u001b[0;34m>\u001b[0m \u001b[0;36m0\u001b[0m\u001b[0;34m\u001b[0m\u001b[0;34m\u001b[0m\u001b[0m\n\u001b[0;32m-> 1182\u001b[0;31m             \u001b[0midx\u001b[0m\u001b[0;34m,\u001b[0m \u001b[0mdata\u001b[0m \u001b[0;34m=\u001b[0m \u001b[0mself\u001b[0m\u001b[0;34m.\u001b[0m\u001b[0m_get_data\u001b[0m\u001b[0;34m(\u001b[0m\u001b[0;34m)\u001b[0m\u001b[0;34m\u001b[0m\u001b[0;34m\u001b[0m\u001b[0m\n\u001b[0m\u001b[1;32m   1183\u001b[0m             \u001b[0mself\u001b[0m\u001b[0;34m.\u001b[0m\u001b[0m_tasks_outstanding\u001b[0m \u001b[0;34m-=\u001b[0m \u001b[0;36m1\u001b[0m\u001b[0;34m\u001b[0m\u001b[0;34m\u001b[0m\u001b[0m\n\u001b[1;32m   1184\u001b[0m             \u001b[0;32mif\u001b[0m \u001b[0mself\u001b[0m\u001b[0;34m.\u001b[0m\u001b[0m_dataset_kind\u001b[0m \u001b[0;34m==\u001b[0m \u001b[0m_DatasetKind\u001b[0m\u001b[0;34m.\u001b[0m\u001b[0mIterable\u001b[0m\u001b[0;34m:\u001b[0m\u001b[0;34m\u001b[0m\u001b[0;34m\u001b[0m\u001b[0m\n",
            "\u001b[0;32m/usr/local/lib/python3.7/dist-packages/torch/utils/data/dataloader.py\u001b[0m in \u001b[0;36m_get_data\u001b[0;34m(self)\u001b[0m\n\u001b[1;32m   1146\u001b[0m         \u001b[0;32melse\u001b[0m\u001b[0;34m:\u001b[0m\u001b[0;34m\u001b[0m\u001b[0;34m\u001b[0m\u001b[0m\n\u001b[1;32m   1147\u001b[0m             \u001b[0;32mwhile\u001b[0m \u001b[0;32mTrue\u001b[0m\u001b[0;34m:\u001b[0m\u001b[0;34m\u001b[0m\u001b[0;34m\u001b[0m\u001b[0m\n\u001b[0;32m-> 1148\u001b[0;31m                 \u001b[0msuccess\u001b[0m\u001b[0;34m,\u001b[0m \u001b[0mdata\u001b[0m \u001b[0;34m=\u001b[0m \u001b[0mself\u001b[0m\u001b[0;34m.\u001b[0m\u001b[0m_try_get_data\u001b[0m\u001b[0;34m(\u001b[0m\u001b[0;34m)\u001b[0m\u001b[0;34m\u001b[0m\u001b[0;34m\u001b[0m\u001b[0m\n\u001b[0m\u001b[1;32m   1149\u001b[0m                 \u001b[0;32mif\u001b[0m \u001b[0msuccess\u001b[0m\u001b[0;34m:\u001b[0m\u001b[0;34m\u001b[0m\u001b[0;34m\u001b[0m\u001b[0m\n\u001b[1;32m   1150\u001b[0m                     \u001b[0;32mreturn\u001b[0m \u001b[0mdata\u001b[0m\u001b[0;34m\u001b[0m\u001b[0;34m\u001b[0m\u001b[0m\n",
            "\u001b[0;32m/usr/local/lib/python3.7/dist-packages/torch/utils/data/dataloader.py\u001b[0m in \u001b[0;36m_try_get_data\u001b[0;34m(self, timeout)\u001b[0m\n\u001b[1;32m    984\u001b[0m         \u001b[0;31m#   (bool: whether successfully get data, any: data if successful else None)\u001b[0m\u001b[0;34m\u001b[0m\u001b[0;34m\u001b[0m\u001b[0;34m\u001b[0m\u001b[0m\n\u001b[1;32m    985\u001b[0m         \u001b[0;32mtry\u001b[0m\u001b[0;34m:\u001b[0m\u001b[0;34m\u001b[0m\u001b[0;34m\u001b[0m\u001b[0m\n\u001b[0;32m--> 986\u001b[0;31m             \u001b[0mdata\u001b[0m \u001b[0;34m=\u001b[0m \u001b[0mself\u001b[0m\u001b[0;34m.\u001b[0m\u001b[0m_data_queue\u001b[0m\u001b[0;34m.\u001b[0m\u001b[0mget\u001b[0m\u001b[0;34m(\u001b[0m\u001b[0mtimeout\u001b[0m\u001b[0;34m=\u001b[0m\u001b[0mtimeout\u001b[0m\u001b[0;34m)\u001b[0m\u001b[0;34m\u001b[0m\u001b[0;34m\u001b[0m\u001b[0m\n\u001b[0m\u001b[1;32m    987\u001b[0m             \u001b[0;32mreturn\u001b[0m \u001b[0;34m(\u001b[0m\u001b[0;32mTrue\u001b[0m\u001b[0;34m,\u001b[0m \u001b[0mdata\u001b[0m\u001b[0;34m)\u001b[0m\u001b[0;34m\u001b[0m\u001b[0;34m\u001b[0m\u001b[0m\n\u001b[1;32m    988\u001b[0m         \u001b[0;32mexcept\u001b[0m \u001b[0mException\u001b[0m \u001b[0;32mas\u001b[0m \u001b[0me\u001b[0m\u001b[0;34m:\u001b[0m\u001b[0;34m\u001b[0m\u001b[0;34m\u001b[0m\u001b[0m\n",
            "\u001b[0;32m/usr/lib/python3.7/multiprocessing/queues.py\u001b[0m in \u001b[0;36mget\u001b[0;34m(self, block, timeout)\u001b[0m\n\u001b[1;32m    102\u001b[0m                 \u001b[0;32mif\u001b[0m \u001b[0mblock\u001b[0m\u001b[0;34m:\u001b[0m\u001b[0;34m\u001b[0m\u001b[0;34m\u001b[0m\u001b[0m\n\u001b[1;32m    103\u001b[0m                     \u001b[0mtimeout\u001b[0m \u001b[0;34m=\u001b[0m \u001b[0mdeadline\u001b[0m \u001b[0;34m-\u001b[0m \u001b[0mtime\u001b[0m\u001b[0;34m.\u001b[0m\u001b[0mmonotonic\u001b[0m\u001b[0;34m(\u001b[0m\u001b[0;34m)\u001b[0m\u001b[0;34m\u001b[0m\u001b[0;34m\u001b[0m\u001b[0m\n\u001b[0;32m--> 104\u001b[0;31m                     \u001b[0;32mif\u001b[0m \u001b[0;32mnot\u001b[0m \u001b[0mself\u001b[0m\u001b[0;34m.\u001b[0m\u001b[0m_poll\u001b[0m\u001b[0;34m(\u001b[0m\u001b[0mtimeout\u001b[0m\u001b[0;34m)\u001b[0m\u001b[0;34m:\u001b[0m\u001b[0;34m\u001b[0m\u001b[0;34m\u001b[0m\u001b[0m\n\u001b[0m\u001b[1;32m    105\u001b[0m                         \u001b[0;32mraise\u001b[0m \u001b[0mEmpty\u001b[0m\u001b[0;34m\u001b[0m\u001b[0;34m\u001b[0m\u001b[0m\n\u001b[1;32m    106\u001b[0m                 \u001b[0;32melif\u001b[0m \u001b[0;32mnot\u001b[0m \u001b[0mself\u001b[0m\u001b[0;34m.\u001b[0m\u001b[0m_poll\u001b[0m\u001b[0;34m(\u001b[0m\u001b[0;34m)\u001b[0m\u001b[0;34m:\u001b[0m\u001b[0;34m\u001b[0m\u001b[0;34m\u001b[0m\u001b[0m\n",
            "\u001b[0;32m/usr/lib/python3.7/multiprocessing/connection.py\u001b[0m in \u001b[0;36mpoll\u001b[0;34m(self, timeout)\u001b[0m\n\u001b[1;32m    255\u001b[0m         \u001b[0mself\u001b[0m\u001b[0;34m.\u001b[0m\u001b[0m_check_closed\u001b[0m\u001b[0;34m(\u001b[0m\u001b[0;34m)\u001b[0m\u001b[0;34m\u001b[0m\u001b[0;34m\u001b[0m\u001b[0m\n\u001b[1;32m    256\u001b[0m         \u001b[0mself\u001b[0m\u001b[0;34m.\u001b[0m\u001b[0m_check_readable\u001b[0m\u001b[0;34m(\u001b[0m\u001b[0;34m)\u001b[0m\u001b[0;34m\u001b[0m\u001b[0;34m\u001b[0m\u001b[0m\n\u001b[0;32m--> 257\u001b[0;31m         \u001b[0;32mreturn\u001b[0m \u001b[0mself\u001b[0m\u001b[0;34m.\u001b[0m\u001b[0m_poll\u001b[0m\u001b[0;34m(\u001b[0m\u001b[0mtimeout\u001b[0m\u001b[0;34m)\u001b[0m\u001b[0;34m\u001b[0m\u001b[0;34m\u001b[0m\u001b[0m\n\u001b[0m\u001b[1;32m    258\u001b[0m \u001b[0;34m\u001b[0m\u001b[0m\n\u001b[1;32m    259\u001b[0m     \u001b[0;32mdef\u001b[0m \u001b[0m__enter__\u001b[0m\u001b[0;34m(\u001b[0m\u001b[0mself\u001b[0m\u001b[0;34m)\u001b[0m\u001b[0;34m:\u001b[0m\u001b[0;34m\u001b[0m\u001b[0;34m\u001b[0m\u001b[0m\n",
            "\u001b[0;32m/usr/lib/python3.7/multiprocessing/connection.py\u001b[0m in \u001b[0;36m_poll\u001b[0;34m(self, timeout)\u001b[0m\n\u001b[1;32m    412\u001b[0m \u001b[0;34m\u001b[0m\u001b[0m\n\u001b[1;32m    413\u001b[0m     \u001b[0;32mdef\u001b[0m \u001b[0m_poll\u001b[0m\u001b[0;34m(\u001b[0m\u001b[0mself\u001b[0m\u001b[0;34m,\u001b[0m \u001b[0mtimeout\u001b[0m\u001b[0;34m)\u001b[0m\u001b[0;34m:\u001b[0m\u001b[0;34m\u001b[0m\u001b[0;34m\u001b[0m\u001b[0m\n\u001b[0;32m--> 414\u001b[0;31m         \u001b[0mr\u001b[0m \u001b[0;34m=\u001b[0m \u001b[0mwait\u001b[0m\u001b[0;34m(\u001b[0m\u001b[0;34m[\u001b[0m\u001b[0mself\u001b[0m\u001b[0;34m]\u001b[0m\u001b[0;34m,\u001b[0m \u001b[0mtimeout\u001b[0m\u001b[0;34m)\u001b[0m\u001b[0;34m\u001b[0m\u001b[0;34m\u001b[0m\u001b[0m\n\u001b[0m\u001b[1;32m    415\u001b[0m         \u001b[0;32mreturn\u001b[0m \u001b[0mbool\u001b[0m\u001b[0;34m(\u001b[0m\u001b[0mr\u001b[0m\u001b[0;34m)\u001b[0m\u001b[0;34m\u001b[0m\u001b[0;34m\u001b[0m\u001b[0m\n\u001b[1;32m    416\u001b[0m \u001b[0;34m\u001b[0m\u001b[0m\n",
            "\u001b[0;32m/usr/lib/python3.7/multiprocessing/connection.py\u001b[0m in \u001b[0;36mwait\u001b[0;34m(object_list, timeout)\u001b[0m\n\u001b[1;32m    919\u001b[0m \u001b[0;34m\u001b[0m\u001b[0m\n\u001b[1;32m    920\u001b[0m             \u001b[0;32mwhile\u001b[0m \u001b[0;32mTrue\u001b[0m\u001b[0;34m:\u001b[0m\u001b[0;34m\u001b[0m\u001b[0;34m\u001b[0m\u001b[0m\n\u001b[0;32m--> 921\u001b[0;31m                 \u001b[0mready\u001b[0m \u001b[0;34m=\u001b[0m \u001b[0mselector\u001b[0m\u001b[0;34m.\u001b[0m\u001b[0mselect\u001b[0m\u001b[0;34m(\u001b[0m\u001b[0mtimeout\u001b[0m\u001b[0;34m)\u001b[0m\u001b[0;34m\u001b[0m\u001b[0;34m\u001b[0m\u001b[0m\n\u001b[0m\u001b[1;32m    922\u001b[0m                 \u001b[0;32mif\u001b[0m \u001b[0mready\u001b[0m\u001b[0;34m:\u001b[0m\u001b[0;34m\u001b[0m\u001b[0;34m\u001b[0m\u001b[0m\n\u001b[1;32m    923\u001b[0m                     \u001b[0;32mreturn\u001b[0m \u001b[0;34m[\u001b[0m\u001b[0mkey\u001b[0m\u001b[0;34m.\u001b[0m\u001b[0mfileobj\u001b[0m \u001b[0;32mfor\u001b[0m \u001b[0;34m(\u001b[0m\u001b[0mkey\u001b[0m\u001b[0;34m,\u001b[0m \u001b[0mevents\u001b[0m\u001b[0;34m)\u001b[0m \u001b[0;32min\u001b[0m \u001b[0mready\u001b[0m\u001b[0;34m]\u001b[0m\u001b[0;34m\u001b[0m\u001b[0;34m\u001b[0m\u001b[0m\n",
            "\u001b[0;32m/usr/lib/python3.7/selectors.py\u001b[0m in \u001b[0;36mselect\u001b[0;34m(self, timeout)\u001b[0m\n\u001b[1;32m    413\u001b[0m         \u001b[0mready\u001b[0m \u001b[0;34m=\u001b[0m \u001b[0;34m[\u001b[0m\u001b[0;34m]\u001b[0m\u001b[0;34m\u001b[0m\u001b[0;34m\u001b[0m\u001b[0m\n\u001b[1;32m    414\u001b[0m         \u001b[0;32mtry\u001b[0m\u001b[0;34m:\u001b[0m\u001b[0;34m\u001b[0m\u001b[0;34m\u001b[0m\u001b[0m\n\u001b[0;32m--> 415\u001b[0;31m             \u001b[0mfd_event_list\u001b[0m \u001b[0;34m=\u001b[0m \u001b[0mself\u001b[0m\u001b[0;34m.\u001b[0m\u001b[0m_selector\u001b[0m\u001b[0;34m.\u001b[0m\u001b[0mpoll\u001b[0m\u001b[0;34m(\u001b[0m\u001b[0mtimeout\u001b[0m\u001b[0;34m)\u001b[0m\u001b[0;34m\u001b[0m\u001b[0;34m\u001b[0m\u001b[0m\n\u001b[0m\u001b[1;32m    416\u001b[0m         \u001b[0;32mexcept\u001b[0m \u001b[0mInterruptedError\u001b[0m\u001b[0;34m:\u001b[0m\u001b[0;34m\u001b[0m\u001b[0;34m\u001b[0m\u001b[0m\n\u001b[1;32m    417\u001b[0m             \u001b[0;32mreturn\u001b[0m \u001b[0mready\u001b[0m\u001b[0;34m\u001b[0m\u001b[0;34m\u001b[0m\u001b[0m\n",
            "\u001b[0;31mKeyboardInterrupt\u001b[0m: "
          ]
        }
      ]
    },
    {
      "cell_type": "code",
      "metadata": {
        "id": "QEOjgjbjxbuv"
      },
      "source": [
        "# grad_cam\n",
        "def backward_hook(module, grad_in, grad_out):\n",
        "    grad_block.append(grad_out[0].detach())\n",
        "\n",
        "\n",
        "def farward_hook(module, input, output):\n",
        "    fmap_block.append(output)\n",
        "\n",
        "def comp_class_vec(output_vec, index=None):\n",
        "    \"\"\"\n",
        "    计算类向量\n",
        "    :param ouput_vec: tensor\n",
        "    :param index: int，指定类别\n",
        "    :return: tensor\n",
        "    \"\"\"\n",
        "    print(output_vec)\n",
        "    if not index:\n",
        "        index = np.argmax(output_vec.cpu().data.numpy())\n",
        "    else:\n",
        "        index = np.array(index)\n",
        "    print(index)\n",
        "    index = index[np.newaxis, np.newaxis]\n",
        "    print(index)\n",
        "    index = torch.from_numpy(index)\n",
        "    print(index)\n",
        "    one_hot = torch.ones(1, 2).scatter_(1, index, 1).to(dconfig.device)\n",
        "    one_hot.requires_grad = True\n",
        "    print(one_hot)\n",
        "    class_vec = torch.sum(one_hot * output)  # one_hot = 11.8605\n",
        "    print(class_vec)\n",
        "    return class_vec\n",
        "\n",
        "def gen_cam(feature_map, grads):\n",
        "    \"\"\"\n",
        "    依据梯度和特征图，生成cam\n",
        "    :param feature_map: np.array， in [C, H, W]\n",
        "    :param grads: np.array， in [C, H, W]\n",
        "    :return: np.array, [H, W]\n",
        "    \"\"\"\n",
        "    cam = np.zeros(feature_map.shape[1:], dtype=np.float32)  # cam shape (H, W)\n",
        "\n",
        "    weights = np.mean(grads, axis=(1, 2))  #\n",
        "    print(f'weights.shape: {weights.shape}, cam.shape: {cam.shape}')\n",
        "    # feature_map = np.mean(feature_map, axis=0)\n",
        "    print(f'feature_map.shape: {feature_map.shape}')\n",
        "    for i, w in enumerate(weights):\n",
        "        # print(w, cam.shape)\n",
        "        cam += w * feature_map[i, :, :]\n",
        "\n",
        "    # cam = np.maximum(cam, 0)\n",
        "    cam = cv2.resize(cam, (32, 32))\n",
        "    cam -= np.min(cam)\n",
        "    cam /= np.max(cam)\n",
        "\n",
        "    return cam\n",
        "\n",
        "def show_cam_on_image(img, mask, out_dir):\n",
        "    heatmap = cv2.applyColorMap((255*mask).astype(np.uint8), cv2.COLORMAP_JET)\n",
        "    heatmap = np.float32(heatmap) / 255\n",
        "    print(f'heatmap: {heatmap.shape}, img: {img.shape}')\n",
        "    cam = cv2.addWeighted(np.float32(img),0.6,heatmap,0.4,0)\n",
        "    cam = cam / np.max(cam)\n",
        "\n",
        "    path_cam_img = os.path.join(out_dir, \"cam.jpg\")\n",
        "    path_raw_img = os.path.join(out_dir, \"raw.jpg\")\n",
        "    if not os.path.exists(out_dir):\n",
        "        os.makedirs(out_dir)\n",
        "    cv2.imwrite(path_cam_img, np.uint8(255 * cam))\n",
        "    cv2.imwrite(path_raw_img, np.uint8(255 * img))\n",
        "\n",
        "\n",
        "# def main_grad_cam(net, img_input):\n",
        "imgs = None\n",
        "labels = None\n",
        "for sample in train_dataloader:\n",
        "    imgs = sample['image']\n",
        "    labels = sample['annotations']\n",
        "    break\n",
        "\n",
        "fmap_block = []\n",
        "grad_block = []\n",
        "\n",
        "net = model.to(dconfig.device).double()\n",
        "img_input = imgs[0].unsqueeze(dim=0).to(dconfig.device)\n",
        "print(f'img_input: {img_input.shape}')\n",
        "# 注册hook\n",
        "output_dir = '/content/gdrive/MyDrive/SideProject/grad_cam'\n",
        "\n",
        "net.layer4[1].register_forward_hook(farward_hook)\n",
        "net.layer4[1].register_backward_hook(backward_hook)\n",
        "\n",
        "# forward\n",
        "output = net(img_input)\n",
        "print(f'output: {output}')\n",
        "# idx = np.argmax(output.cpu().data.numpy())\n",
        "# print(\"predict: {}\".format(classes[idx]))\n",
        "\n",
        "# backward\n",
        "net.zero_grad()\n",
        "# _loss = comp_class_vec(output)\n",
        "# _loss = loss(output, labels[7].to(dconfig.device))\n",
        "_loss = output.sum()\n",
        "print(f'loss: {_loss}')\n",
        "_loss.backward()\n",
        "\n",
        "# 生成cam\n",
        "grads_val = grad_block[0].cpu().data.numpy().squeeze()\n",
        "fmap = fmap_block[0].cpu().data.numpy().squeeze()\n",
        "print(f'grads_val: {grads_val.shape}, fmap: {fmap.shape}')\n",
        "cam = gen_cam(fmap, grads_val)\n",
        "print(f'cam: {cam.shape}')\n",
        "# 保存cam图片\n",
        "img = img_input.numpy()[::1-,:,:]\n",
        "img_show = np.float32(cv2.resize(img, (32, 32))) / 255\n",
        "print(f'img_show: {img_show.shape}')\n",
        "show_cam_on_image(img_show, cam.astype(np.uint8), output_dir)"
      ],
      "execution_count": null,
      "outputs": []
    }
  ]
}